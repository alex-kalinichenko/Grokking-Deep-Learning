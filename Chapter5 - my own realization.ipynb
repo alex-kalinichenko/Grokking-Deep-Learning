{
 "cells": [
  {
   "cell_type": "markdown",
   "metadata": {},
   "source": [
    "В этом упражнении я самостоятельно пишу свою нейронную сеть для закрепления материала из части 5"
   ]
  },
  {
   "cell_type": "code",
   "execution_count": 57,
   "metadata": {},
   "outputs": [
    {
     "name": "stdout",
     "output_type": "stream",
     "text": [
      "# 0:\t Updated weight: 3.0 \t Prediction: 1 \t  error: -4 \t \n",
      "# 1:\t Updated weight: 4.0 \t Prediction: 3.0 \t  error: -2.0 \t \n",
      "# 2:\t Updated weight: 4.5 \t Prediction: 4.0 \t  error: -1.0 \t \n",
      "# 3:\t Updated weight: 4.75 \t Prediction: 4.5 \t  error: -0.5 \t \n",
      "# 4:\t Updated weight: 4.875 \t Prediction: 4.75 \t  error: -0.25 \t \n",
      "# 5:\t Updated weight: 4.9375 \t Prediction: 4.875 \t  error: -0.125 \t \n",
      "# 6:\t Updated weight: 4.96875 \t Prediction: 4.9375 \t  error: -0.0625 \t \n",
      "# 7:\t Updated weight: 4.984375 \t Prediction: 4.96875 \t  error: -0.03125 \t \n",
      "# 8:\t Updated weight: 4.9921875 \t Prediction: 4.984375 \t  error: -0.015625 \t \n",
      "# 9:\t Updated weight: 4.99609375 \t Prediction: 4.9921875 \t  error: -0.0078125 \t \n",
      "# 10:\t Updated weight: 4.998046875 \t Prediction: 4.99609375 \t  error: -0.00390625 \t \n",
      "# 11:\t Updated weight: 4.9990234375 \t Prediction: 4.998046875 \t  error: -0.001953125 \t \n",
      "# 12:\t Updated weight: 4.99951171875 \t Prediction: 4.9990234375 \t  error: -0.0009765625 \t \n",
      "# 13:\t Updated weight: 4.999755859375 \t Prediction: 4.99951171875 \t  error: -0.00048828125 \t \n",
      "# 14:\t Updated weight: 4.9998779296875 \t Prediction: 4.999755859375 \t  error: -0.000244140625 \t \n",
      "# 15:\t Updated weight: 4.99993896484375 \t Prediction: 4.9998779296875 \t  error: -0.0001220703125 \t \n",
      "# 16:\t Updated weight: 4.999969482421875 \t Prediction: 4.99993896484375 \t  error: -6.103515625e-05 \t \n",
      "# 17:\t Updated weight: 4.9999847412109375 \t Prediction: 4.999969482421875 \t  error: -3.0517578125e-05 \t \n",
      "# 18:\t Updated weight: 4.999992370605469 \t Prediction: 4.9999847412109375 \t  error: -1.52587890625e-05 \t \n",
      "# 19:\t Updated weight: 4.999996185302734 \t Prediction: 4.999992370605469 \t  error: -7.62939453125e-06 \t \n"
     ]
    }
   ],
   "source": [
    "input = 1\n",
    "pred_goal = 5\n",
    "weight = 1\n",
    "alpha = 0.5\n",
    "\n",
    "for iteration in range(20):\n",
    "    prediction = input * weight\n",
    "    error = prediction - pred_goal\n",
    "    weight = weight - alpha * input * error  # input * error = derivative\n",
    "    #weight = weight * (1 - alpha * input ** 2) + alpha * input * pred_goal\n",
    "    \n",
    "    print(f'# {iteration}:\\t Updated weight: {weight} \\t Prediction: {prediction} \\t  error: {error} \\t ')"
   ]
  }
 ],
 "metadata": {
  "kernelspec": {
   "display_name": "Python 3",
   "language": "python",
   "name": "python3"
  },
  "language_info": {
   "codemirror_mode": {
    "name": "ipython",
    "version": 3
   },
   "file_extension": ".py",
   "mimetype": "text/x-python",
   "name": "python",
   "nbconvert_exporter": "python",
   "pygments_lexer": "ipython3",
   "version": "3.7.6"
  },
  "toc": {
   "base_numbering": 1,
   "nav_menu": {},
   "number_sections": true,
   "sideBar": true,
   "skip_h1_title": false,
   "title_cell": "Table of Contents",
   "title_sidebar": "Contents",
   "toc_cell": false,
   "toc_position": {},
   "toc_section_display": true,
   "toc_window_display": false
  },
  "varInspector": {
   "cols": {
    "lenName": 16,
    "lenType": 16,
    "lenVar": 40
   },
   "kernels_config": {
    "python": {
     "delete_cmd_postfix": "",
     "delete_cmd_prefix": "del ",
     "library": "var_list.py",
     "varRefreshCmd": "print(var_dic_list())"
    },
    "r": {
     "delete_cmd_postfix": ") ",
     "delete_cmd_prefix": "rm(",
     "library": "var_list.r",
     "varRefreshCmd": "cat(var_dic_list()) "
    }
   },
   "position": {
    "height": "505px",
    "left": "1213px",
    "right": "20px",
    "top": "120px",
    "width": "382px"
   },
   "types_to_exclude": [
    "module",
    "function",
    "builtin_function_or_method",
    "instance",
    "_Feature"
   ],
   "window_display": false
  }
 },
 "nbformat": 4,
 "nbformat_minor": 4
}
